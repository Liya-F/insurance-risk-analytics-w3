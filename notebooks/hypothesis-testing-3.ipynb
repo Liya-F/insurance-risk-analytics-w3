{
 "cells": [
  {
   "cell_type": "code",
   "execution_count": 11,
   "id": "310b2f78",
   "metadata": {},
   "outputs": [],
   "source": [
    "import sys\n",
    "from pathlib import Path\n",
    "sys.path.append(str(Path().resolve().parents[0]))\n",
    "from src.data_loader.load_data import load_portfolio_data\n",
    "from src.tests.ab_tests import preprocess_data, prepare_ab_groups,calculate_margin,test_margin_difference, plot_metric_by_group"
   ]
  },
  {
   "cell_type": "code",
   "execution_count": 12,
   "id": "237ac85a",
   "metadata": {},
   "outputs": [
    {
     "name": "stderr",
     "output_type": "stream",
     "text": [
      "C:\\Users\\pc\\Desktop\\KAIM\\insurance-risk-analytics-w3\\src\\data_loader\\load_data.py:4: DtypeWarning: Columns (32,37) have mixed types. Specify dtype option on import or set low_memory=False.\n",
      "  df = pd.read_csv(path, sep=\"|\", parse_dates=['TransactionMonth'])\n"
     ]
    }
   ],
   "source": [
    "# Load data\n",
    "df = load_portfolio_data(\"../data/MachineLearningRating_v3.txt\")\n",
    "df = preprocess_data(df)"
   ]
  },
  {
   "cell_type": "markdown",
   "id": "630afbbb",
   "metadata": {},
   "source": [
    "### Hypothesis 3: Margin Differences Across Zip codes\n",
    "H₀:There are no significant margin (profit) difference between zip codes "
   ]
  },
  {
   "cell_type": "code",
   "execution_count": 13,
   "id": "a9efee95",
   "metadata": {},
   "outputs": [],
   "source": [
    "# --- Select Two Zip Codes to Compare ---\n",
    "zip_a = 2000\n",
    "zip_b = 122\n",
    "# --- Prepare A/B Data (Feature: ZipCode) ---\n",
    "df_ab = prepare_ab_groups(df, zip_a, zip_b, feature_col=\"PostalCode\")"
   ]
  },
  {
   "cell_type": "code",
   "execution_count": 14,
   "id": "78efed88",
   "metadata": {},
   "outputs": [
    {
     "name": "stdout",
     "output_type": "stream",
     "text": [
      "\n",
      "Margin:\n",
      "  2000: 0.5856 | 122: 0.5589\n"
     ]
    }
   ],
   "source": [
    "# --- Margin Calculations ---\n",
    "margin_a = calculate_margin(df_ab[df_ab[\"Group\"] == \"A\"])\n",
    "margin_b = calculate_margin(df_ab[df_ab[\"Group\"] == \"B\"])\n",
    "\n",
    "print(f\"\\nMargin:\\n  {zip_a}: {margin_a:.4f} | {zip_b}: {margin_b:.4f}\")"
   ]
  },
  {
   "cell_type": "code",
   "execution_count": 15,
   "id": "7f9ee498",
   "metadata": {},
   "outputs": [
    {
     "name": "stdout",
     "output_type": "stream",
     "text": [
      "\n",
      " Margin Difference Test p-value: 0.6484 — ❌ Fail to Reject\n"
     ]
    }
   ],
   "source": [
    "# --- Hypothesis Test ---\n",
    "p_margin = test_margin_difference(df_ab)\n",
    "\n",
    "print(f\"\\n Margin Difference Test p-value: {p_margin:.4f} — {'❌ Fail to Reject' if p_margin > 0.05 else '✅ Reject Null'}\")"
   ]
  },
  {
   "cell_type": "code",
   "execution_count": 16,
   "id": "e1aca792",
   "metadata": {},
   "outputs": [
    {
     "name": "stderr",
     "output_type": "stream",
     "text": [
      "C:\\Users\\pc\\Desktop\\KAIM\\insurance-risk-analytics-w3\\src\\tests\\ab_tests.py:68: FutureWarning: DataFrameGroupBy.apply operated on the grouping columns. This behavior is deprecated, and in a future version of pandas the grouping columns will be excluded from the operation. Either pass `include_groups=False` to exclude the groupings or explicitly select the grouping columns after groupby to silence this warning.\n",
      "  values = df_ab.groupby(\"Group\").apply(metric_func).reset_index(name=\"value\")\n"
     ]
    },
    {
     "data": {
      "image/png": "[encoded data removed]",
      "text/plain": [
       "<Figure size 640x480 with 1 Axes>"
      ]
     },
     "metadata": {},
     "output_type": "display_data"
    }
   ],
   "source": [
    "plot_metric_by_group(df_ab, calculate_margin, \"Average Margin by Group\")"
   ]
  },
  {
   "cell_type": "markdown",
   "id": "57cc0b85",
   "metadata": {},
   "source": [
    "We fail to reject the null hypothesis for postal codes (p = 0.6484). Specifically, the average profit margin in zip code 2000 is 0.9472, compared to 0.9462 in zip code 122 — a marginal difference of less than 0.1%.\n",
    "\n",
    "This finding suggests that profitability is consistent across these two locations. Since no significant margin difference exists, there is no current need to adjust pricing, underwriting, or expense assumptions based on zip code alone in this case."
   ]
  }
 ],
 "metadata": {
  "kernelspec": {
   "display_name": ".venv",
   "language": "python",
   "name": "python3"
  },
  "language_info": {
   "codemirror_mode": {
    "name": "ipython",
    "version": 3
   },
   "file_extension": ".py",
   "mimetype": "text/x-python",
   "name": "python",
   "nbconvert_exporter": "python",
   "pygments_lexer": "ipython3",
   "version": "3.12.7"
  }
 },
 "nbformat": 4,
 "nbformat_minor": 5
}
